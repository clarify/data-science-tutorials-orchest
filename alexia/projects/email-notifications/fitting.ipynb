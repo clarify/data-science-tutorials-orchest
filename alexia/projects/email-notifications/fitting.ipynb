{
 "cells": [
  {
   "cell_type": "code",
   "execution_count": null,
   "id": "c12458a0-b714-4458-b704-e0f380423e7b",
   "metadata": {
    "tags": []
   },
   "outputs": [],
   "source": [
    "import pandas as pd\n",
    "import numpy as np\n",
    "from sklearn.preprocessing import StandardScaler\n",
    "from sklearn.ensemble import IsolationForest\n",
    "import pickle\n",
    "import orchest\n",
    "import json\n",
    "\n",
    "data = orchest.get_inputs() # data = [(response)]\n",
    "response = json.loads(data[\"response\"])\n",
    "outliers_fraction = orchest.get_step_param(\"outliers_fraction\")\n",
    "print(\"outliers fraction is set to: \", outliers_fraction)"
   ]
  },
  {
   "cell_type": "code",
   "execution_count": null,
   "id": "07c5773a-22cc-41fa-9a15-895c6bde9336",
   "metadata": {
    "tags": []
   },
   "outputs": [],
   "source": [
    "dates = response[\"result\"][\"data\"][\"times\"]\n",
    "values = list(response[\"result\"][\"data\"][\"series\"].values())[0]\n",
    "df = pd.DataFrame({'date': dates, 'x': values})"
   ]
  },
  {
   "cell_type": "code",
   "execution_count": null,
   "id": "d82ef54d-1af0-4e71-9884-e7191c575ae8",
   "metadata": {
    "tags": []
   },
   "outputs": [],
   "source": [
    "scaler = StandardScaler()\n",
    "np_scaled = scaler.fit_transform(df[[\"x\"]])\n",
    "data = pd.DataFrame(np_scaled)"
   ]
  },
  {
   "cell_type": "code",
   "execution_count": null,
   "id": "7e2d3966-642b-4b18-992f-018fbb16904c",
   "metadata": {
    "tags": []
   },
   "outputs": [],
   "source": [
    "random_state = np.random.RandomState(4)\n",
    "model =  IsolationForest(contamination=outliers_fraction, random_state=random_state)\n",
    "model.fit(data) \n",
    "print(model.get_params())"
   ]
  },
  {
   "cell_type": "code",
   "execution_count": null,
   "id": "56229473-d47e-406b-9b26-851d829f1c0f",
   "metadata": {
    "tags": []
   },
   "outputs": [],
   "source": [
    "df['anomaly_score'] = pd.Series(model.predict(data))\n",
    "anomaly = df.loc[df['anomaly_score'] == -1, ['date', 'x']] \n",
    "\n",
    "print(\"anomalies found:\")\n",
    "anomaly"
   ]
  },
  {
   "cell_type": "code",
   "execution_count": null,
   "id": "6d971255-4c65-4ccf-af51-276f7dee23f7",
   "metadata": {
    "tags": []
   },
   "outputs": [],
   "source": [
    "import plotly.graph_objects as go\n",
    "fig = go.Figure(data=go.Scatter(x = df['date'], y = df['x'], mode='markers', marker=dict(color='blue', size=4)))\n",
    "fig.add_traces(go.Scatter(x = anomaly['date'], y = anomaly['x'], textposition='top left',\n",
    "                          textfont=dict(color='#233a77'),\n",
    "                          mode='markers+text',\n",
    "                          marker=dict(color='red', size=6)))\n",
    "\n",
    "fig.show()"
   ]
  },
  {
   "cell_type": "code",
   "execution_count": null,
   "id": "acb8081f-5029-45a9-ba5a-5d3c68187cf7",
   "metadata": {
    "tags": []
   },
   "outputs": [],
   "source": [
    "file = '../data/model.sav'\n",
    "f = open(file,'x')\n",
    "f.close()\n",
    "\n",
    "with open(file, 'wb') as f:\n",
    "    print(\"Save model in model file...\")\n",
    "    pickle.dump(model, f)\n",
    "print(\"Done!\")"
   ]
  }
 ],
 "metadata": {
  "kernelspec": {
   "display_name": "Python 3",
   "language": "python",
   "name": "orchest-kernel-69a43e05-ec5e-4c78-884e-d753d093ab81"
  },
  "language_info": {
   "codemirror_mode": {
    "name": "ipython",
    "version": 3
   },
   "file_extension": ".py",
   "mimetype": "text/x-python",
   "name": "python",
   "nbconvert_exporter": "python",
   "pygments_lexer": "ipython3",
   "version": "3.9.10"
  }
 },
 "nbformat": 4,
 "nbformat_minor": 5
}
