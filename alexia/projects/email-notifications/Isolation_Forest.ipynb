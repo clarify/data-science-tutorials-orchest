{
 "cells": [
  {
   "cell_type": "code",
   "execution_count": null,
   "metadata": {
    "execution": {
     "iopub.execute_input": "2022-04-05T14:27:16.994428Z",
     "iopub.status.busy": "2022-04-05T14:27:16.993925Z",
     "iopub.status.idle": "2022-04-05T14:27:18.123278Z",
     "shell.execute_reply": "2022-04-05T14:27:18.122532Z"
    },
    "tags": []
   },
   "outputs": [],
   "source": [
    "from sklearn.preprocessing import StandardScaler\n",
    "from sklearn.ensemble import IsolationForest\n",
    "import pandas as pd\n",
    "import numpy as np\n",
    "\n",
    "import plotly.graph_objects as go\n",
    "import plotly.express as px\n",
    "from plotly.graph_objs import Layout, XAxis, YAxis\n",
    "\n",
    "import orchest\n",
    "import pickle\n",
    "import json\n",
    "import os"
   ]
  },
  {
   "cell_type": "code",
   "execution_count": null,
   "metadata": {
    "execution": {
     "iopub.execute_input": "2022-04-05T14:27:18.139584Z",
     "iopub.status.busy": "2022-04-05T14:27:18.139085Z",
     "iopub.status.idle": "2022-04-05T14:27:18.145502Z",
     "shell.execute_reply": "2022-04-05T14:27:18.144788Z"
    },
    "tags": []
   },
   "outputs": [],
   "source": [
    "orchest_data = orchest.get_inputs()\n",
    "response = orchest_data[\"response\"]"
   ]
  },
  {
   "cell_type": "code",
   "execution_count": null,
   "metadata": {
    "execution": {
     "iopub.execute_input": "2022-04-05T14:27:18.160326Z",
     "iopub.status.busy": "2022-04-05T14:27:18.159849Z",
     "iopub.status.idle": "2022-04-05T14:27:18.167555Z",
     "shell.execute_reply": "2022-04-05T14:27:18.166948Z"
    },
    "tags": []
   },
   "outputs": [],
   "source": [
    "orchest_data = orchest.get_inputs()\n",
    "response = orchest_data[\"response\"]\n",
    "try:\n",
    "    dates = response.index\n",
    "    values = sum(response.values.tolist(), [])\n",
    "    print(\"Data received: \")\n",
    "except Exception as e:\n",
    "    print(e)"
   ]
  },
  {
   "cell_type": "code",
   "execution_count": null,
   "metadata": {
    "execution": {
     "iopub.execute_input": "2022-04-05T14:27:18.183743Z",
     "iopub.status.busy": "2022-04-05T14:27:18.183164Z",
     "iopub.status.idle": "2022-04-05T14:27:18.204347Z",
     "shell.execute_reply": "2022-04-05T14:27:18.203594Z"
    },
    "tags": []
   },
   "outputs": [],
   "source": [
    "df = pd.DataFrame(data = {'date': dates, 'x': values})\n",
    "df.head()"
   ]
  },
  {
   "cell_type": "code",
   "execution_count": null,
   "metadata": {
    "execution": {
     "iopub.execute_input": "2022-04-05T14:27:18.219282Z",
     "iopub.status.busy": "2022-04-05T14:27:18.218628Z",
     "iopub.status.idle": "2022-04-05T14:27:18.324251Z",
     "shell.execute_reply": "2022-04-05T14:27:18.323506Z"
    },
    "tags": []
   },
   "outputs": [],
   "source": [
    "fig = go.Figure(data=go.Scatter(x = df['date'], y = df['x'], mode='markers', marker=dict(color='blue', size=5)))\n",
    "fig.update_xaxes(rangeslider_visible=True)\n",
    "fig.show()"
   ]
  },
  {
   "cell_type": "code",
   "execution_count": null,
   "metadata": {
    "execution": {
     "iopub.execute_input": "2022-04-05T14:27:18.339397Z",
     "iopub.status.busy": "2022-04-05T14:27:18.338909Z",
     "iopub.status.idle": "2022-04-05T14:27:18.347668Z",
     "shell.execute_reply": "2022-04-05T14:27:18.346891Z"
    },
    "tags": []
   },
   "outputs": [],
   "source": [
    "scaler = StandardScaler()\n",
    "np_scaled = scaler.fit_transform(df[[\"x\"]])\n",
    "data = pd.DataFrame(np_scaled)"
   ]
  },
  {
   "cell_type": "code",
   "execution_count": null,
   "metadata": {
    "execution": {
     "iopub.execute_input": "2022-04-05T14:27:18.362645Z",
     "iopub.status.busy": "2022-04-05T14:27:18.361921Z",
     "iopub.status.idle": "2022-04-05T14:27:18.371302Z",
     "shell.execute_reply": "2022-04-05T14:27:18.370658Z"
    },
    "tags": []
   },
   "outputs": [],
   "source": [
    "print(\"Load the model from disk...\")\n",
    "file = '../data/model.sav'\n",
    "model = pickle.load(open(file, 'rb'))"
   ]
  },
  {
   "cell_type": "code",
   "execution_count": null,
   "metadata": {
    "execution": {
     "iopub.execute_input": "2022-04-05T14:27:18.386008Z",
     "iopub.status.busy": "2022-04-05T14:27:18.385305Z",
     "iopub.status.idle": "2022-04-05T14:27:18.443076Z",
     "shell.execute_reply": "2022-04-05T14:27:18.442265Z"
    },
    "tags": []
   },
   "outputs": [],
   "source": [
    "print(\"Do anomaly detection...\")\n",
    "df['anomaly'] = pd.Series(model.predict(data))\n",
    "anomaly = df.loc[df['anomaly'] == -1, ['date', 'x']] \n",
    "print(model.get_params())"
   ]
  },
  {
   "cell_type": "code",
   "execution_count": null,
   "metadata": {
    "execution": {
     "iopub.execute_input": "2022-04-05T14:27:18.458355Z",
     "iopub.status.busy": "2022-04-05T14:27:18.457876Z",
     "iopub.status.idle": "2022-04-05T14:27:18.504385Z",
     "shell.execute_reply": "2022-04-05T14:27:18.503590Z"
    },
    "tags": []
   },
   "outputs": [],
   "source": [
    "layout = Layout(\n",
    "    paper_bgcolor='rgba(0,0,0,0)',\n",
    "    plot_bgcolor='rgba(0,0,0,0)', \n",
    "    xaxis=XAxis(showgrid=True, zeroline=True, showline=True, zerolinecolor='#DBDBDB', zerolinewidth=2, gridcolor='#DBDBDB', gridwidth=2,  linecolor='#AFAFAF', linewidth=2),\n",
    "    yaxis=YAxis(showgrid=True, zeroline=True, showline=True, zerolinecolor='#DBDBDB', zerolinewidth=2, gridcolor='#DBDBDB', gridwidth=2, linecolor='#AFAFAF', linewidth=2)\n",
    ")\n",
    "\n",
    "fig = go.Figure(data=go.Scatter(x = df['date'], y = df['x'], mode='lines', name = \"Normal values\", marker=dict(color='blue', size=2)), layout = layout)\n",
    "fig.add_traces(go.Scatter(x = anomaly['date'], y = anomaly['x'], textposition='top left', mode='markers+text', name = \"Anomaly value\", marker=dict(color='red', size=6)))\n",
    "\n",
    "fig.show()"
   ]
  },
  {
   "cell_type": "code",
   "execution_count": null,
   "metadata": {
    "execution": {
     "iopub.execute_input": "2022-04-05T14:27:18.519931Z",
     "iopub.status.busy": "2022-04-05T14:27:18.519437Z",
     "iopub.status.idle": "2022-04-05T14:27:19.332821Z",
     "shell.execute_reply": "2022-04-05T14:27:19.331947Z"
    },
    "tags": []
   },
   "outputs": [],
   "source": [
    "if not anomaly.empty:\n",
    "    print(\"Anomaly points exist\")\n",
    "    fig.write_image(\"../data/plot.pdf\")\n",
    "else:\n",
    "    print(\"No anomaly points\")"
   ]
  },
  {
   "cell_type": "code",
   "execution_count": null,
   "metadata": {
    "execution": {
     "iopub.execute_input": "2022-04-05T14:27:19.352810Z",
     "iopub.status.busy": "2022-04-05T14:27:19.352515Z",
     "iopub.status.idle": "2022-04-05T14:27:19.361226Z",
     "shell.execute_reply": "2022-04-05T14:27:19.360516Z"
    },
    "tags": []
   },
   "outputs": [],
   "source": [
    "orchest.output((anomaly), name = \"anomaly\")\n",
    "print(\"Done!\")"
   ]
  }
 ],
 "metadata": {
  "kernelspec": {
   "display_name": "Python 3",
   "language": "python",
   "name": "orchest-kernel-69a43e05-ec5e-4c78-884e-d753d093ab81"
  },
  "language_info": {
   "codemirror_mode": {
    "name": "ipython",
    "version": 3
   },
   "file_extension": ".py",
   "mimetype": "text/x-python",
   "name": "python",
   "nbconvert_exporter": "python",
   "pygments_lexer": "ipython3",
   "version": "3.9.10"
  }
 },
 "nbformat": 4,
 "nbformat_minor": 4
}
